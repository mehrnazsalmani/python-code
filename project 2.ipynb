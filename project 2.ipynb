{
 "cells": [
  {
   "cell_type": "code",
   "execution_count": 22,
   "metadata": {},
   "outputs": [],
   "source": [
    "import pandas as pd\n",
    "import numpy as np\n",
    "from scipy import stats\n",
    "import statistics\n",
    "import seaborn as sns\n",
    "import matplotlib.pyplot as plt\n",
    "from sklearn.model_selection import train_test_split\n",
    "from sklearn.impute import SimpleImputer\n",
    "import sys\n",
    "from sklearn.preprocessing import StandardScaler\n",
    "from sklearn.discriminant_analysis import LinearDiscriminantAnalysis as LDA\n",
    "from sklearn.discriminant_analysis import QuadraticDiscriminantAnalysis as QDA\n",
    "from sklearn.metrics import confusion_matrix\n",
    "from sklearn.linear_model import LogisticRegression\n",
    "from sklearn.neighbors import KNeighborsClassifier\n",
    "from sklearn.model_selection import KFold , cross_val_score  #for estimating test error"
   ]
  },
  {
   "cell_type": "code",
   "execution_count": 23,
   "metadata": {},
   "outputs": [
    {
     "data": {
      "text/html": [
       "<div>\n",
       "<style scoped>\n",
       "    .dataframe tbody tr th:only-of-type {\n",
       "        vertical-align: middle;\n",
       "    }\n",
       "\n",
       "    .dataframe tbody tr th {\n",
       "        vertical-align: top;\n",
       "    }\n",
       "\n",
       "    .dataframe thead th {\n",
       "        text-align: right;\n",
       "    }\n",
       "</style>\n",
       "<table border=\"1\" class=\"dataframe\">\n",
       "  <thead>\n",
       "    <tr style=\"text-align: right;\">\n",
       "      <th></th>\n",
       "      <th>mpg</th>\n",
       "      <th>cylinders</th>\n",
       "      <th>displacement</th>\n",
       "      <th>horsepower</th>\n",
       "      <th>weight</th>\n",
       "      <th>acceleration</th>\n",
       "      <th>year</th>\n",
       "      <th>origin</th>\n",
       "      <th>name</th>\n",
       "    </tr>\n",
       "  </thead>\n",
       "  <tbody>\n",
       "    <tr>\n",
       "      <td>0</td>\n",
       "      <td>18.0</td>\n",
       "      <td>8</td>\n",
       "      <td>307.0</td>\n",
       "      <td>130</td>\n",
       "      <td>3504</td>\n",
       "      <td>12.0</td>\n",
       "      <td>70</td>\n",
       "      <td>1</td>\n",
       "      <td>chevrolet chevelle malibu</td>\n",
       "    </tr>\n",
       "    <tr>\n",
       "      <td>1</td>\n",
       "      <td>15.0</td>\n",
       "      <td>8</td>\n",
       "      <td>350.0</td>\n",
       "      <td>165</td>\n",
       "      <td>3693</td>\n",
       "      <td>11.5</td>\n",
       "      <td>70</td>\n",
       "      <td>1</td>\n",
       "      <td>buick skylark 320</td>\n",
       "    </tr>\n",
       "    <tr>\n",
       "      <td>2</td>\n",
       "      <td>18.0</td>\n",
       "      <td>8</td>\n",
       "      <td>318.0</td>\n",
       "      <td>150</td>\n",
       "      <td>3436</td>\n",
       "      <td>11.0</td>\n",
       "      <td>70</td>\n",
       "      <td>1</td>\n",
       "      <td>plymouth satellite</td>\n",
       "    </tr>\n",
       "    <tr>\n",
       "      <td>3</td>\n",
       "      <td>16.0</td>\n",
       "      <td>8</td>\n",
       "      <td>304.0</td>\n",
       "      <td>150</td>\n",
       "      <td>3433</td>\n",
       "      <td>12.0</td>\n",
       "      <td>70</td>\n",
       "      <td>1</td>\n",
       "      <td>amc rebel sst</td>\n",
       "    </tr>\n",
       "    <tr>\n",
       "      <td>4</td>\n",
       "      <td>17.0</td>\n",
       "      <td>8</td>\n",
       "      <td>302.0</td>\n",
       "      <td>140</td>\n",
       "      <td>3449</td>\n",
       "      <td>10.5</td>\n",
       "      <td>70</td>\n",
       "      <td>1</td>\n",
       "      <td>ford torino</td>\n",
       "    </tr>\n",
       "    <tr>\n",
       "      <td>...</td>\n",
       "      <td>...</td>\n",
       "      <td>...</td>\n",
       "      <td>...</td>\n",
       "      <td>...</td>\n",
       "      <td>...</td>\n",
       "      <td>...</td>\n",
       "      <td>...</td>\n",
       "      <td>...</td>\n",
       "      <td>...</td>\n",
       "    </tr>\n",
       "    <tr>\n",
       "      <td>393</td>\n",
       "      <td>27.0</td>\n",
       "      <td>4</td>\n",
       "      <td>140.0</td>\n",
       "      <td>86</td>\n",
       "      <td>2790</td>\n",
       "      <td>15.6</td>\n",
       "      <td>82</td>\n",
       "      <td>1</td>\n",
       "      <td>ford mustang gl</td>\n",
       "    </tr>\n",
       "    <tr>\n",
       "      <td>394</td>\n",
       "      <td>44.0</td>\n",
       "      <td>4</td>\n",
       "      <td>97.0</td>\n",
       "      <td>52</td>\n",
       "      <td>2130</td>\n",
       "      <td>24.6</td>\n",
       "      <td>82</td>\n",
       "      <td>2</td>\n",
       "      <td>vw pickup</td>\n",
       "    </tr>\n",
       "    <tr>\n",
       "      <td>395</td>\n",
       "      <td>32.0</td>\n",
       "      <td>4</td>\n",
       "      <td>135.0</td>\n",
       "      <td>84</td>\n",
       "      <td>2295</td>\n",
       "      <td>11.6</td>\n",
       "      <td>82</td>\n",
       "      <td>1</td>\n",
       "      <td>dodge rampage</td>\n",
       "    </tr>\n",
       "    <tr>\n",
       "      <td>396</td>\n",
       "      <td>28.0</td>\n",
       "      <td>4</td>\n",
       "      <td>120.0</td>\n",
       "      <td>79</td>\n",
       "      <td>2625</td>\n",
       "      <td>18.6</td>\n",
       "      <td>82</td>\n",
       "      <td>1</td>\n",
       "      <td>ford ranger</td>\n",
       "    </tr>\n",
       "    <tr>\n",
       "      <td>397</td>\n",
       "      <td>31.0</td>\n",
       "      <td>4</td>\n",
       "      <td>119.0</td>\n",
       "      <td>82</td>\n",
       "      <td>2720</td>\n",
       "      <td>19.4</td>\n",
       "      <td>82</td>\n",
       "      <td>1</td>\n",
       "      <td>chevy s-10</td>\n",
       "    </tr>\n",
       "  </tbody>\n",
       "</table>\n",
       "<p>398 rows × 9 columns</p>\n",
       "</div>"
      ],
      "text/plain": [
       "      mpg  cylinders  displacement  horsepower  weight  acceleration  year  \\\n",
       "0    18.0          8         307.0         130    3504          12.0    70   \n",
       "1    15.0          8         350.0         165    3693          11.5    70   \n",
       "2    18.0          8         318.0         150    3436          11.0    70   \n",
       "3    16.0          8         304.0         150    3433          12.0    70   \n",
       "4    17.0          8         302.0         140    3449          10.5    70   \n",
       "..    ...        ...           ...         ...     ...           ...   ...   \n",
       "393  27.0          4         140.0          86    2790          15.6    82   \n",
       "394  44.0          4          97.0          52    2130          24.6    82   \n",
       "395  32.0          4         135.0          84    2295          11.6    82   \n",
       "396  28.0          4         120.0          79    2625          18.6    82   \n",
       "397  31.0          4         119.0          82    2720          19.4    82   \n",
       "\n",
       "     origin                       name  \n",
       "0         1  chevrolet chevelle malibu  \n",
       "1         1          buick skylark 320  \n",
       "2         1         plymouth satellite  \n",
       "3         1              amc rebel sst  \n",
       "4         1                ford torino  \n",
       "..      ...                        ...  \n",
       "393       1            ford mustang gl  \n",
       "394       2                  vw pickup  \n",
       "395       1              dodge rampage  \n",
       "396       1                ford ranger  \n",
       "397       1                 chevy s-10  \n",
       "\n",
       "[398 rows x 9 columns]"
      ]
     },
     "execution_count": 23,
     "metadata": {},
     "output_type": "execute_result"
    }
   ],
   "source": [
    "dataset = pd.read_excel(\"C:/Users/maryam/Desktop/term 7/tahlil dade/ta/pythone/python project/AutoDataset.xlsx\")\n",
    "dataset = pd.DataFrame(dataset)\n",
    "dataset"
   ]
  },
  {
   "cell_type": "code",
   "execution_count": 24,
   "metadata": {},
   "outputs": [],
   "source": [
    "dataset.isnull().sum()\n",
    "dataset = dataset.drop(['name'] , axis = 1 )\n",
    "#print (dataset)"
   ]
  },
  {
   "cell_type": "markdown",
   "metadata": {},
   "source": [
    "# A"
   ]
  },
  {
   "cell_type": "code",
   "execution_count": 25,
   "metadata": {},
   "outputs": [
    {
     "name": "stdout",
     "output_type": "stream",
     "text": [
      "      mpg  cylinders  displacement  horsepower  weight  acceleration  year  \\\n",
      "0    18.0          8         307.0         130    3504          12.0    70   \n",
      "1    15.0          8         350.0         165    3693          11.5    70   \n",
      "2    18.0          8         318.0         150    3436          11.0    70   \n",
      "3    16.0          8         304.0         150    3433          12.0    70   \n",
      "4    17.0          8         302.0         140    3449          10.5    70   \n",
      "..    ...        ...           ...         ...     ...           ...   ...   \n",
      "393  27.0          4         140.0          86    2790          15.6    82   \n",
      "394  44.0          4          97.0          52    2130          24.6    82   \n",
      "395  32.0          4         135.0          84    2295          11.6    82   \n",
      "396  28.0          4         120.0          79    2625          18.6    82   \n",
      "397  31.0          4         119.0          82    2720          19.4    82   \n",
      "\n",
      "     origin  mpg01  \n",
      "0         1    0.0  \n",
      "1         1    0.0  \n",
      "2         1    0.0  \n",
      "3         1    0.0  \n",
      "4         1    0.0  \n",
      "..      ...    ...  \n",
      "393       1    1.0  \n",
      "394       2    1.0  \n",
      "395       1    1.0  \n",
      "396       1    1.0  \n",
      "397       1    1.0  \n",
      "\n",
      "[398 rows x 9 columns]\n"
     ]
    }
   ],
   "source": [
    "mpg01 = np.zeros(398)\n",
    "mpg01 = np.array(mpg01)\n",
    "datampg = dataset.mpg\n",
    "median = statistics.median(datampg)\n",
    "for i in range (0,398):\n",
    "    if datampg[i]>=median :\n",
    "        mpg01[i]=1\n",
    "    else :\n",
    "        mpg01[i]=0\n",
    "        \n",
    "\n",
    "dataset['mpg01'] = mpg01\n",
    "\n",
    "\n",
    "#print(mpg01)\n",
    "print (dataset)"
   ]
  },
  {
   "cell_type": "markdown",
   "metadata": {},
   "source": [
    "# B"
   ]
  },
  {
   "cell_type": "code",
   "execution_count": 26,
   "metadata": {},
   "outputs": [
    {
     "data": {
      "image/png": "[encoded data removed]",
      "text/plain": [
       "<Figure size 432x288 with 2 Axes>"
      ]
     },
     "metadata": {
      "needs_background": "light"
     },
     "output_type": "display_data"
    }
   ],
   "source": [
    "corr = dataset.corr()\n",
    "sns.heatmap(corr,annot= True , linewidth = 0.1)\n",
    "plt.show()\n",
    "#هرچه خانه ها پررنگ تر باشند یعنی دو متغیر بیشتر روی یکدیگر تاثیر دارند"
   ]
  },
  {
   "cell_type": "markdown",
   "metadata": {},
   "source": [
    "# C"
   ]
  },
  {
   "cell_type": "code",
   "execution_count": 27,
   "metadata": {},
   "outputs": [],
   "source": [
    "x = dataset.drop('mpg01',  axis = 1)\n",
    "y = dataset['mpg01']\n",
    "x_train , x_test , y_train , y_test = train_test_split (x,y,test_size = 0.2 , random_state = 1)\n"
   ]
  },
  {
   "cell_type": "markdown",
   "metadata": {},
   "source": [
    "# D"
   ]
  },
  {
   "cell_type": "code",
   "execution_count": 28,
   "metadata": {},
   "outputs": [
    {
     "name": "stdout",
     "output_type": "stream",
     "text": [
      "0.925\n",
      "[[35  4]\n",
      " [ 2 39]]\n",
      "0.9321202531645569\n"
     ]
    }
   ],
   "source": [
    "lda= LDA()\n",
    "lda.fit(x_train , y_train)\n",
    "lda_pred = lda.predict(x_test)\n",
    "lda_confu_matrics = confusion_matrix(y_test , lda_pred)\n",
    "acc_lda = lda.score(x_test , y_test)\n",
    "cv  = KFold(n_splits = 5 , random_state = 1 , shuffle = True)\n",
    "cv_lda = cross_val_score (lda , x , y ,scoring = 'accuracy' , cv=cv , n_jobs = -1)\n",
    "\n",
    "sum_lda = 0\n",
    "for i in range(0,5):\n",
    "    sum_lda += cv_lda[i]\n",
    "kfoldcv_lda = sum_lda / 5\n",
    "\n",
    "\n",
    "print(acc_lda)\n",
    "print(lda_confu_matrics)\n",
    "print (kfoldcv_lda)\n"
   ]
  },
  {
   "cell_type": "markdown",
   "metadata": {},
   "source": [
    "# E"
   ]
  },
  {
   "cell_type": "code",
   "execution_count": 29,
   "metadata": {},
   "outputs": [
    {
     "name": "stdout",
     "output_type": "stream",
     "text": [
      "0.9375\n",
      "[[36  3]\n",
      " [ 2 39]]\n",
      "0.9372151898734176\n"
     ]
    }
   ],
   "source": [
    "qda = QDA()\n",
    "qda.fit(x_train , y_train)\n",
    "qda_pred = qda.predict(x_test)\n",
    "qda_confu_matrics = confusion_matrix(y_test , qda_pred)\n",
    "acc_qda = qda.score(x_test , y_test)\n",
    "cv  = KFold(n_splits = 5 , random_state = 1 , shuffle = True)\n",
    "cv_qda = cross_val_score (qda , x , y ,scoring = 'accuracy' , cv=cv , n_jobs = -1)\n",
    "\n",
    "sum_qda = 0\n",
    "for i in range(0,5):\n",
    "    sum_qda += cv_qda[i]\n",
    "kfoldcv_qda = sum_qda / 5\n",
    "\n",
    "\n",
    "print(acc_qda)\n",
    "print(qda_confu_matrics)\n",
    "print (kfoldcv_qda)\n"
   ]
  },
  {
   "cell_type": "markdown",
   "metadata": {},
   "source": [
    "# F"
   ]
  },
  {
   "cell_type": "code",
   "execution_count": 30,
   "metadata": {},
   "outputs": [
    {
     "name": "stdout",
     "output_type": "stream",
     "text": [
      "0.95\n",
      "[[36  3]\n",
      " [ 1 40]]\n",
      "0.9648417721518987\n"
     ]
    },
    {
     "name": "stderr",
     "output_type": "stream",
     "text": [
      "C:\\Users\\maryam\\Anaconda3\\lib\\site-packages\\sklearn\\linear_model\\logistic.py:432: FutureWarning: Default solver will be changed to 'lbfgs' in 0.22. Specify a solver to silence this warning.\n",
      "  FutureWarning)\n"
     ]
    }
   ],
   "source": [
    "lr = LogisticRegression ()\n",
    "lr.fit(x_train , y_train)\n",
    "log_pred = lr.predict(x_test)\n",
    "acc_log = lr.score(x_test , y_test)\n",
    "log_confu_matrics = confusion_matrix(y_test , log_pred)\n",
    "cv  = KFold(n_splits = 5 , random_state = 1 , shuffle = True)\n",
    "cv_log = cross_val_score (lr , x , y ,scoring = 'accuracy' , cv=cv , n_jobs = -1)\n",
    "\n",
    "\n",
    "sum_log = 0\n",
    "for i in range(0,5):\n",
    "    sum_log += cv_log[i]\n",
    "kfoldcv_log = sum_log / 5\n",
    "\n",
    "\n",
    "print(acc_log)\n",
    "print(log_confu_matrics)\n",
    "print (kfoldcv_log)"
   ]
  },
  {
   "cell_type": "markdown",
   "metadata": {},
   "source": [
    "# G"
   ]
  },
  {
   "cell_type": "code",
   "execution_count": 31,
   "metadata": {},
   "outputs": [
    {
     "name": "stdout",
     "output_type": "stream",
     "text": [
      "N = 3\n",
      "\n",
      "0.8875\n",
      "[[33  6]\n",
      " [ 3 38]]\n",
      "0.8818987341772152\n",
      "\n",
      "N = 5\n",
      "\n",
      "0.9125\n",
      "[[33  6]\n",
      " [ 1 40]]\n",
      "0.8918987341772151\n",
      "\n",
      "N = 10\n",
      "\n",
      "0.9\n",
      "[[34  5]\n",
      " [ 3 38]]\n",
      "0.8743354430379748\n",
      "\n",
      "N = 25\n",
      "\n",
      "0.9\n",
      "[[35  4]\n",
      " [ 4 37]]\n",
      "0.8643037974683544\n"
     ]
    }
   ],
   "source": [
    "print ('N = 3\\n')\n",
    "knn  = KNeighborsClassifier(n_neighbors= 3)\n",
    "knn.fit(x_train, y_train)\n",
    "acc_knn = knn.score(x_test , y_test)\n",
    "knn_pred = knn.predict(x_test)\n",
    "knn_confu_matrics = confusion_matrix(y_test , knn_pred)\n",
    "cv  = KFold(n_splits = 5 , random_state = 1 , shuffle = True)\n",
    "cv_knn = cross_val_score (knn , x , y ,scoring = 'accuracy' , cv=cv , n_jobs = -1)\n",
    "\n",
    "sum_knn = 0\n",
    "for i in range(0,5):\n",
    "    sum_knn += cv_knn[i]\n",
    "kfoldcv_knn = sum_knn / 5\n",
    "\n",
    "print(acc_knn)\n",
    "print(knn_confu_matrics)\n",
    "print (kfoldcv_knn)\n",
    "##############################################################################################\n",
    "print ('\\nN = 5\\n')\n",
    "knn  = KNeighborsClassifier(n_neighbors= 5)\n",
    "knn.fit(x_train, y_train)\n",
    "acc_knn = knn.score(x_test , y_test)\n",
    "knn_pred = knn.predict(x_test)\n",
    "knn_confu_matrics = confusion_matrix(y_test , knn_pred)\n",
    "cv  = KFold(n_splits = 5 , random_state = 1 , shuffle = True)\n",
    "cv_knn = cross_val_score (knn , x , y ,scoring = 'accuracy' , cv=cv , n_jobs = -1)\n",
    "\n",
    "sum_knn = 0\n",
    "for i in range(0,5):\n",
    "    sum_knn += cv_knn[i]\n",
    "kfoldcv_knn = sum_knn / 5\n",
    "\n",
    "print(acc_knn)\n",
    "print(knn_confu_matrics)\n",
    "print (kfoldcv_knn)\n",
    "##################################################################################################\n",
    "print ('\\nN = 10\\n')\n",
    "knn  = KNeighborsClassifier(n_neighbors= 10)\n",
    "knn.fit(x_train, y_train)\n",
    "acc_knn = knn.score(x_test , y_test)\n",
    "knn_pred = knn.predict(x_test)\n",
    "knn_confu_matrics = confusion_matrix(y_test , knn_pred)\n",
    "cv  = KFold(n_splits = 5 , random_state = 1 , shuffle = True)\n",
    "cv_knn = cross_val_score (knn , x , y ,scoring = 'accuracy' , cv=cv , n_jobs = -1)\n",
    "\n",
    "sum_knn = 0\n",
    "for i in range(0,5):\n",
    "    sum_knn += cv_knn[i]\n",
    "kfoldcv_knn = sum_knn / 5\n",
    "\n",
    "print(acc_knn)\n",
    "print(knn_confu_matrics)\n",
    "print (kfoldcv_knn)\n",
    "####################################################################################################\n",
    "print ('\\nN = 25\\n')\n",
    "knn  = KNeighborsClassifier(n_neighbors= 25)\n",
    "knn.fit(x_train, y_train)\n",
    "acc_knn = knn.score(x_test , y_test)\n",
    "knn_pred = knn.predict(x_test)\n",
    "knn_confu_matrics = confusion_matrix(y_test , knn_pred)\n",
    "cv  = KFold(n_splits = 5 , random_state = 1 , shuffle = True)\n",
    "cv_knn = cross_val_score (knn , x , y ,scoring = 'accuracy' , cv=cv , n_jobs = -1)\n",
    "\n",
    "sum_knn = 0\n",
    "for i in range(0,5):\n",
    "    sum_knn += cv_knn[i]\n",
    "kfoldcv_knn = sum_knn / 5\n",
    "\n",
    "print(acc_knn)\n",
    "print(knn_confu_matrics)\n",
    "print (kfoldcv_knn)\n",
    "\n",
    "#the k that havw minimom of the test error (5-fold cross validation) will be choose---choose n = 3\n",
    "\n"
   ]
  },
  {
   "cell_type": "code",
   "execution_count": null,
   "metadata": {},
   "outputs": [],
   "source": []
  },
  {
   "cell_type": "code",
   "execution_count": null,
   "metadata": {},
   "outputs": [],
   "source": []
  },
  {
   "cell_type": "code",
   "execution_count": null,
   "metadata": {},
   "outputs": [],
   "source": []
  },
  {
   "cell_type": "code",
   "execution_count": null,
   "metadata": {},
   "outputs": [],
   "source": []
  },
  {
   "cell_type": "code",
   "execution_count": null,
   "metadata": {},
   "outputs": [],
   "source": []
  }
 ],
 "metadata": {
  "kernelspec": {
   "display_name": "Python 3",
   "language": "python",
   "name": "python3"
  },
  "language_info": {
   "codemirror_mode": {
    "name": "ipython",
    "version": 3
   },
   "file_extension": ".py",
   "mimetype": "text/x-python",
   "name": "python",
   "nbconvert_exporter": "python",
   "pygments_lexer": "ipython3",
   "version": "3.7.4"
  }
 },
 "nbformat": 4,
 "nbformat_minor": 2
}
